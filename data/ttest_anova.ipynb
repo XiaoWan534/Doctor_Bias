{
 "cells": [
  {
   "cell_type": "code",
   "execution_count": 1,
   "metadata": {
    "collapsed": true
   },
   "outputs": [],
   "source": [
    "import pandas as pd"
   ]
  },
  {
   "cell_type": "code",
   "execution_count": 2,
   "metadata": {
    "collapsed": true
   },
   "outputs": [],
   "source": [
    "import numpy as np"
   ]
  },
  {
   "cell_type": "code",
   "execution_count": 3,
   "metadata": {
    "collapsed": true
   },
   "outputs": [],
   "source": [
    "performance = pd.read_csv('Measure_Performance_Rate_20180219.csv')"
   ]
  },
  {
   "cell_type": "code",
   "execution_count": 4,
   "metadata": {
    "collapsed": false
   },
   "outputs": [
    {
     "data": {
      "text/html": [
       "<div>\n",
       "<table border=\"1\" class=\"dataframe\">\n",
       "  <thead>\n",
       "    <tr style=\"text-align: right;\">\n",
       "      <th></th>\n",
       "      <th>NPI</th>\n",
       "      <th>Gender</th>\n",
       "      <th>std</th>\n",
       "      <th>median</th>\n",
       "      <th>mean</th>\n",
       "      <th>href</th>\n",
       "    </tr>\n",
       "  </thead>\n",
       "  <tbody>\n",
       "    <tr>\n",
       "      <th>0</th>\n",
       "      <td>1205831344</td>\n",
       "      <td>M</td>\n",
       "      <td>40.000000</td>\n",
       "      <td>100.0</td>\n",
       "      <td>80.0</td>\n",
       "      <td>/doctors/Dr_Gary_Rylander</td>\n",
       "    </tr>\n",
       "    <tr>\n",
       "      <th>1</th>\n",
       "      <td>1366412033</td>\n",
       "      <td>F</td>\n",
       "      <td>46.007246</td>\n",
       "      <td>95.0</td>\n",
       "      <td>65.0</td>\n",
       "      <td>/doctors/Dr_Rebecca_L_Smith</td>\n",
       "    </tr>\n",
       "    <tr>\n",
       "      <th>2</th>\n",
       "      <td>1689629172</td>\n",
       "      <td>F</td>\n",
       "      <td>0.000000</td>\n",
       "      <td>100.0</td>\n",
       "      <td>100.0</td>\n",
       "      <td>/doctors/Dr_Lynne_Kaplinsky</td>\n",
       "    </tr>\n",
       "    <tr>\n",
       "      <th>3</th>\n",
       "      <td>1356374177</td>\n",
       "      <td>F</td>\n",
       "      <td>50.000000</td>\n",
       "      <td>50.0</td>\n",
       "      <td>50.0</td>\n",
       "      <td>/doctors/Dr_Margaret_Bertrand</td>\n",
       "    </tr>\n",
       "    <tr>\n",
       "      <th>4</th>\n",
       "      <td>1770507352</td>\n",
       "      <td>F</td>\n",
       "      <td>0.000000</td>\n",
       "      <td>81.0</td>\n",
       "      <td>81.0</td>\n",
       "      <td>/doctors/Dr_Lynne_Mcelhinney</td>\n",
       "    </tr>\n",
       "  </tbody>\n",
       "</table>\n",
       "</div>"
      ],
      "text/plain": [
       "          NPI Gender        std  median   mean                           href\n",
       "0  1205831344      M  40.000000   100.0   80.0      /doctors/Dr_Gary_Rylander\n",
       "1  1366412033      F  46.007246    95.0   65.0    /doctors/Dr_Rebecca_L_Smith\n",
       "2  1689629172      F   0.000000   100.0  100.0    /doctors/Dr_Lynne_Kaplinsky\n",
       "3  1356374177      F  50.000000    50.0   50.0  /doctors/Dr_Margaret_Bertrand\n",
       "4  1770507352      F   0.000000    81.0   81.0   /doctors/Dr_Lynne_Mcelhinney"
      ]
     },
     "execution_count": 4,
     "metadata": {},
     "output_type": "execute_result"
    }
   ],
   "source": [
    "performance.head()"
   ]
  },
  {
   "cell_type": "code",
   "execution_count": 6,
   "metadata": {
    "collapsed": true
   },
   "outputs": [],
   "source": [
    "f_table = performance[performance.Gender == 'F']"
   ]
  },
  {
   "cell_type": "code",
   "execution_count": 10,
   "metadata": {
    "collapsed": true
   },
   "outputs": [],
   "source": [
    "m_table = performance[performance.Gender == 'M']"
   ]
  },
  {
   "cell_type": "code",
   "execution_count": 9,
   "metadata": {
    "collapsed": false
   },
   "outputs": [],
   "source": [
    "mean_f = f_table.loc[:,'mean']"
   ]
  },
  {
   "cell_type": "code",
   "execution_count": 11,
   "metadata": {
    "collapsed": true
   },
   "outputs": [],
   "source": [
    "mean_m = m_table.loc[:,'mean']"
   ]
  },
  {
   "cell_type": "code",
   "execution_count": 22,
   "metadata": {
    "collapsed": true
   },
   "outputs": [],
   "source": [
    "median_f = f_table.loc[:,'median']"
   ]
  },
  {
   "cell_type": "code",
   "execution_count": 23,
   "metadata": {
    "collapsed": true
   },
   "outputs": [],
   "source": [
    "median_m = m_table.loc[:,'median']"
   ]
  },
  {
   "cell_type": "code",
   "execution_count": 17,
   "metadata": {
    "collapsed": true
   },
   "outputs": [],
   "source": [
    "std_m = m_table.loc[:,'std']"
   ]
  },
  {
   "cell_type": "code",
   "execution_count": 18,
   "metadata": {
    "collapsed": true
   },
   "outputs": [],
   "source": [
    "std_f = f_table.loc[:,'std']"
   ]
  },
  {
   "cell_type": "code",
   "execution_count": 12,
   "metadata": {
    "collapsed": true
   },
   "outputs": [],
   "source": [
    "import scipy.stats as stats"
   ]
  },
  {
   "cell_type": "code",
   "execution_count": 19,
   "metadata": {
    "collapsed": true
   },
   "outputs": [],
   "source": [
    "t_stat_mean, p_val_mean = stats.ttest_ind(mean_f, mean_m, equal_var=False)"
   ]
  },
  {
   "cell_type": "code",
   "execution_count": 28,
   "metadata": {
    "collapsed": false
   },
   "outputs": [
    {
     "data": {
      "text/plain": [
       "(-5.8022712929785927, 6.6287728407501427e-09)"
      ]
     },
     "execution_count": 28,
     "metadata": {},
     "output_type": "execute_result"
    }
   ],
   "source": [
    "t_stat_mean, p_val_mean"
   ]
  },
  {
   "cell_type": "code",
   "execution_count": 24,
   "metadata": {
    "collapsed": false
   },
   "outputs": [],
   "source": [
    "t_stat_median, p_val_median = stats.ttest_ind(median_f, median_m, equal_var=False)"
   ]
  },
  {
   "cell_type": "code",
   "execution_count": 29,
   "metadata": {
    "collapsed": false
   },
   "outputs": [
    {
     "data": {
      "text/plain": [
       "(-6.2968589447226568, 3.0926533439171455e-10)"
      ]
     },
     "execution_count": 29,
     "metadata": {},
     "output_type": "execute_result"
    }
   ],
   "source": [
    "t_stat_median, p_val_median "
   ]
  },
  {
   "cell_type": "code",
   "execution_count": 26,
   "metadata": {
    "collapsed": true
   },
   "outputs": [],
   "source": [
    "t_stat_std, p_val_std = stats.ttest_ind(std_f, std_m, equal_var=False)"
   ]
  },
  {
   "cell_type": "code",
   "execution_count": 30,
   "metadata": {
    "collapsed": false
   },
   "outputs": [
    {
     "data": {
      "text/plain": [
       "(5.6943109834946446, 1.2540257898085899e-08)"
      ]
     },
     "execution_count": 30,
     "metadata": {},
     "output_type": "execute_result"
    }
   ],
   "source": [
    "t_stat_std, p_val_std"
   ]
  },
  {
   "cell_type": "code",
   "execution_count": 31,
   "metadata": {
    "collapsed": false
   },
   "outputs": [
    {
     "name": "stderr",
     "output_type": "stream",
     "text": [
      "C:\\Users\\amyhu\\Anaconda3\\lib\\site-packages\\IPython\\core\\interactiveshell.py:2717: DtypeWarning: Columns (15,25,26,27,28,29,30,31,32,33,34,36,40) have mixed types. Specify dtype option on import or set low_memory=False.\n",
      "  interactivity=interactivity, compiler=compiler, result=result)\n"
     ]
    }
   ],
   "source": [
    "nation_table = pd.read_csv('Physician_Compare_National_Downloadable_File.csv')"
   ]
  },
  {
   "cell_type": "code",
   "execution_count": 32,
   "metadata": {
    "collapsed": false
   },
   "outputs": [
    {
     "data": {
      "text/html": [
       "<div>\n",
       "<table border=\"1\" class=\"dataframe\">\n",
       "  <thead>\n",
       "    <tr style=\"text-align: right;\">\n",
       "      <th></th>\n",
       "      <th>NPI</th>\n",
       "      <th>PAC ID</th>\n",
       "      <th>Professional Enrollment ID</th>\n",
       "      <th>Last Name</th>\n",
       "      <th>First Name</th>\n",
       "      <th>Middle Name</th>\n",
       "      <th>Suffix</th>\n",
       "      <th>Gender</th>\n",
       "      <th>Credential</th>\n",
       "      <th>Medical school name</th>\n",
       "      <th>...</th>\n",
       "      <th>Hospital affiliation CCN 3</th>\n",
       "      <th>Hospital affiliation LBN 3</th>\n",
       "      <th>Hospital affiliation CCN 4</th>\n",
       "      <th>Hospital affiliation LBN 4</th>\n",
       "      <th>Hospital affiliation CCN 5</th>\n",
       "      <th>Hospital affiliation LBN 5</th>\n",
       "      <th>Professional accepts Medicare Assignment</th>\n",
       "      <th>Reported Quality Measures</th>\n",
       "      <th>Used electronic health records</th>\n",
       "      <th>Committed to heart health through the Million Hearts® initiative.</th>\n",
       "    </tr>\n",
       "  </thead>\n",
       "  <tbody>\n",
       "    <tr>\n",
       "      <th>0</th>\n",
       "      <td>1487927612</td>\n",
       "      <td>4880850486</td>\n",
       "      <td>I20120726000331</td>\n",
       "      <td>HALL</td>\n",
       "      <td>ESTHER</td>\n",
       "      <td>S</td>\n",
       "      <td>NaN</td>\n",
       "      <td>F</td>\n",
       "      <td>NaN</td>\n",
       "      <td>LIFE CHIROPRACTIC COLLEGE - WEST</td>\n",
       "      <td>...</td>\n",
       "      <td>NaN</td>\n",
       "      <td>NaN</td>\n",
       "      <td>NaN</td>\n",
       "      <td>NaN</td>\n",
       "      <td>NaN</td>\n",
       "      <td>NaN</td>\n",
       "      <td>Y</td>\n",
       "      <td>NaN</td>\n",
       "      <td>NaN</td>\n",
       "      <td>NaN</td>\n",
       "    </tr>\n",
       "    <tr>\n",
       "      <th>1</th>\n",
       "      <td>1235146762</td>\n",
       "      <td>2365435336</td>\n",
       "      <td>I20040406000367</td>\n",
       "      <td>WHITE</td>\n",
       "      <td>BARBARA</td>\n",
       "      <td>L</td>\n",
       "      <td>NaN</td>\n",
       "      <td>F</td>\n",
       "      <td>CSW</td>\n",
       "      <td>OTHER</td>\n",
       "      <td>...</td>\n",
       "      <td>NaN</td>\n",
       "      <td>NaN</td>\n",
       "      <td>NaN</td>\n",
       "      <td>NaN</td>\n",
       "      <td>NaN</td>\n",
       "      <td>NaN</td>\n",
       "      <td>Y</td>\n",
       "      <td>NaN</td>\n",
       "      <td>NaN</td>\n",
       "      <td>NaN</td>\n",
       "    </tr>\n",
       "    <tr>\n",
       "      <th>2</th>\n",
       "      <td>1346282258</td>\n",
       "      <td>5395768527</td>\n",
       "      <td>I20060113000139</td>\n",
       "      <td>DAVIDSON</td>\n",
       "      <td>JOHN</td>\n",
       "      <td>A</td>\n",
       "      <td>NaN</td>\n",
       "      <td>M</td>\n",
       "      <td>CSW</td>\n",
       "      <td>OTHER</td>\n",
       "      <td>...</td>\n",
       "      <td>NaN</td>\n",
       "      <td>NaN</td>\n",
       "      <td>NaN</td>\n",
       "      <td>NaN</td>\n",
       "      <td>NaN</td>\n",
       "      <td>NaN</td>\n",
       "      <td>Y</td>\n",
       "      <td>NaN</td>\n",
       "      <td>NaN</td>\n",
       "      <td>NaN</td>\n",
       "    </tr>\n",
       "    <tr>\n",
       "      <th>3</th>\n",
       "      <td>1932283124</td>\n",
       "      <td>5193762862</td>\n",
       "      <td>I20050415000143</td>\n",
       "      <td>CAGEN</td>\n",
       "      <td>STEVEN</td>\n",
       "      <td>F</td>\n",
       "      <td>NaN</td>\n",
       "      <td>M</td>\n",
       "      <td>DC</td>\n",
       "      <td>SHERMAN COLLEGE OF STRAIGHT CHIROPRACTIC</td>\n",
       "      <td>...</td>\n",
       "      <td>NaN</td>\n",
       "      <td>NaN</td>\n",
       "      <td>NaN</td>\n",
       "      <td>NaN</td>\n",
       "      <td>NaN</td>\n",
       "      <td>NaN</td>\n",
       "      <td>Y</td>\n",
       "      <td>NaN</td>\n",
       "      <td>NaN</td>\n",
       "      <td>NaN</td>\n",
       "    </tr>\n",
       "    <tr>\n",
       "      <th>4</th>\n",
       "      <td>1902950462</td>\n",
       "      <td>7416123666</td>\n",
       "      <td>I20120110000522</td>\n",
       "      <td>ESPY</td>\n",
       "      <td>LEISHA</td>\n",
       "      <td>H</td>\n",
       "      <td>NaN</td>\n",
       "      <td>F</td>\n",
       "      <td>NaN</td>\n",
       "      <td>LIFE CHIROPRACTIC COLLEGE</td>\n",
       "      <td>...</td>\n",
       "      <td>NaN</td>\n",
       "      <td>NaN</td>\n",
       "      <td>NaN</td>\n",
       "      <td>NaN</td>\n",
       "      <td>NaN</td>\n",
       "      <td>NaN</td>\n",
       "      <td>M</td>\n",
       "      <td>NaN</td>\n",
       "      <td>NaN</td>\n",
       "      <td>NaN</td>\n",
       "    </tr>\n",
       "  </tbody>\n",
       "</table>\n",
       "<p>5 rows × 41 columns</p>\n",
       "</div>"
      ],
      "text/plain": [
       "          NPI      PAC ID Professional Enrollment ID Last Name First Name  \\\n",
       "0  1487927612  4880850486            I20120726000331      HALL     ESTHER   \n",
       "1  1235146762  2365435336            I20040406000367     WHITE    BARBARA   \n",
       "2  1346282258  5395768527            I20060113000139  DAVIDSON       JOHN   \n",
       "3  1932283124  5193762862            I20050415000143     CAGEN     STEVEN   \n",
       "4  1902950462  7416123666            I20120110000522      ESPY     LEISHA   \n",
       "\n",
       "  Middle Name Suffix Gender Credential  \\\n",
       "0           S    NaN      F        NaN   \n",
       "1           L    NaN      F        CSW   \n",
       "2           A    NaN      M        CSW   \n",
       "3           F    NaN      M         DC   \n",
       "4           H    NaN      F        NaN   \n",
       "\n",
       "                        Medical school name  \\\n",
       "0          LIFE CHIROPRACTIC COLLEGE - WEST   \n",
       "1                                     OTHER   \n",
       "2                                     OTHER   \n",
       "3  SHERMAN COLLEGE OF STRAIGHT CHIROPRACTIC   \n",
       "4                 LIFE CHIROPRACTIC COLLEGE   \n",
       "\n",
       "                                 ...                                  \\\n",
       "0                                ...                                   \n",
       "1                                ...                                   \n",
       "2                                ...                                   \n",
       "3                                ...                                   \n",
       "4                                ...                                   \n",
       "\n",
       "   Hospital affiliation CCN 3 Hospital affiliation LBN 3  \\\n",
       "0                         NaN                        NaN   \n",
       "1                         NaN                        NaN   \n",
       "2                         NaN                        NaN   \n",
       "3                         NaN                        NaN   \n",
       "4                         NaN                        NaN   \n",
       "\n",
       "  Hospital affiliation CCN 4 Hospital affiliation LBN 4  \\\n",
       "0                        NaN                        NaN   \n",
       "1                        NaN                        NaN   \n",
       "2                        NaN                        NaN   \n",
       "3                        NaN                        NaN   \n",
       "4                        NaN                        NaN   \n",
       "\n",
       "  Hospital affiliation CCN 5 Hospital affiliation LBN 5  \\\n",
       "0                        NaN                        NaN   \n",
       "1                        NaN                        NaN   \n",
       "2                        NaN                        NaN   \n",
       "3                        NaN                        NaN   \n",
       "4                        NaN                        NaN   \n",
       "\n",
       "  Professional accepts Medicare Assignment Reported Quality Measures  \\\n",
       "0                                        Y                       NaN   \n",
       "1                                        Y                       NaN   \n",
       "2                                        Y                       NaN   \n",
       "3                                        Y                       NaN   \n",
       "4                                        M                       NaN   \n",
       "\n",
       "   Used electronic health records  \\\n",
       "0                             NaN   \n",
       "1                             NaN   \n",
       "2                             NaN   \n",
       "3                             NaN   \n",
       "4                             NaN   \n",
       "\n",
       "   Committed to heart health through the Million Hearts® initiative.  \n",
       "0                                                NaN                  \n",
       "1                                                NaN                  \n",
       "2                                                NaN                  \n",
       "3                                                NaN                  \n",
       "4                                                NaN                  \n",
       "\n",
       "[5 rows x 41 columns]"
      ]
     },
     "execution_count": 32,
     "metadata": {},
     "output_type": "execute_result"
    }
   ],
   "source": [
    "nation_table.head()"
   ]
  },
  {
   "cell_type": "code",
   "execution_count": 35,
   "metadata": {
    "collapsed": true
   },
   "outputs": [],
   "source": [
    "df = nation_table.loc[:,['NPI','Graduation year','Primary specialty']]"
   ]
  },
  {
   "cell_type": "code",
   "execution_count": 36,
   "metadata": {
    "collapsed": false
   },
   "outputs": [
    {
     "data": {
      "text/html": [
       "<div>\n",
       "<table border=\"1\" class=\"dataframe\">\n",
       "  <thead>\n",
       "    <tr style=\"text-align: right;\">\n",
       "      <th></th>\n",
       "      <th>NPI</th>\n",
       "      <th>Graduation year</th>\n",
       "      <th>Primary specialty</th>\n",
       "    </tr>\n",
       "  </thead>\n",
       "  <tbody>\n",
       "    <tr>\n",
       "      <th>0</th>\n",
       "      <td>1487927612</td>\n",
       "      <td>2010.0</td>\n",
       "      <td>CHIROPRACTIC</td>\n",
       "    </tr>\n",
       "    <tr>\n",
       "      <th>1</th>\n",
       "      <td>1235146762</td>\n",
       "      <td>1992.0</td>\n",
       "      <td>CLINICAL SOCIAL WORKER</td>\n",
       "    </tr>\n",
       "    <tr>\n",
       "      <th>2</th>\n",
       "      <td>1346282258</td>\n",
       "      <td>1999.0</td>\n",
       "      <td>CLINICAL SOCIAL WORKER</td>\n",
       "    </tr>\n",
       "    <tr>\n",
       "      <th>3</th>\n",
       "      <td>1932283124</td>\n",
       "      <td>1997.0</td>\n",
       "      <td>CHIROPRACTIC</td>\n",
       "    </tr>\n",
       "    <tr>\n",
       "      <th>4</th>\n",
       "      <td>1902950462</td>\n",
       "      <td>1985.0</td>\n",
       "      <td>CHIROPRACTIC</td>\n",
       "    </tr>\n",
       "  </tbody>\n",
       "</table>\n",
       "</div>"
      ],
      "text/plain": [
       "          NPI  Graduation year       Primary specialty\n",
       "0  1487927612           2010.0            CHIROPRACTIC\n",
       "1  1235146762           1992.0  CLINICAL SOCIAL WORKER\n",
       "2  1346282258           1999.0  CLINICAL SOCIAL WORKER\n",
       "3  1932283124           1997.0            CHIROPRACTIC\n",
       "4  1902950462           1985.0            CHIROPRACTIC"
      ]
     },
     "execution_count": 36,
     "metadata": {},
     "output_type": "execute_result"
    }
   ],
   "source": [
    "df.head()"
   ]
  },
  {
   "cell_type": "code",
   "execution_count": 38,
   "metadata": {
    "collapsed": false
   },
   "outputs": [],
   "source": [
    "df.loc[:,'Graduation year']  = 2018 - df.loc[:,'Graduation year'] "
   ]
  },
  {
   "cell_type": "code",
   "execution_count": 40,
   "metadata": {
    "collapsed": false
   },
   "outputs": [],
   "source": [
    "df_1 = performance.merge(df, how = 'inner', on = 'NPI')"
   ]
  },
  {
   "cell_type": "code",
   "execution_count": 41,
   "metadata": {
    "collapsed": true
   },
   "outputs": [],
   "source": [
    "df_2 = df_1.drop_duplicates(subset='NPI', keep='last')"
   ]
  },
  {
   "cell_type": "code",
   "execution_count": 42,
   "metadata": {
    "collapsed": false
   },
   "outputs": [
    {
     "data": {
      "text/plain": [
       "223963"
      ]
     },
     "execution_count": 42,
     "metadata": {},
     "output_type": "execute_result"
    }
   ],
   "source": [
    "len(df_1)"
   ]
  },
  {
   "cell_type": "code",
   "execution_count": 45,
   "metadata": {
    "collapsed": false
   },
   "outputs": [
    {
     "data": {
      "text/html": [
       "<div>\n",
       "<table border=\"1\" class=\"dataframe\">\n",
       "  <thead>\n",
       "    <tr style=\"text-align: right;\">\n",
       "      <th></th>\n",
       "      <th>NPI</th>\n",
       "      <th>Gender</th>\n",
       "      <th>std</th>\n",
       "      <th>median</th>\n",
       "      <th>mean</th>\n",
       "      <th>href</th>\n",
       "      <th>Graduation year</th>\n",
       "      <th>Primary specialty</th>\n",
       "    </tr>\n",
       "  </thead>\n",
       "  <tbody>\n",
       "    <tr>\n",
       "      <th>1</th>\n",
       "      <td>1205831344</td>\n",
       "      <td>M</td>\n",
       "      <td>40.000000</td>\n",
       "      <td>100.0</td>\n",
       "      <td>80.0</td>\n",
       "      <td>/doctors/Dr_Gary_Rylander</td>\n",
       "      <td>41.0</td>\n",
       "      <td>OPHTHALMOLOGY</td>\n",
       "    </tr>\n",
       "    <tr>\n",
       "      <th>3</th>\n",
       "      <td>1366412033</td>\n",
       "      <td>F</td>\n",
       "      <td>46.007246</td>\n",
       "      <td>95.0</td>\n",
       "      <td>65.0</td>\n",
       "      <td>/doctors/Dr_Rebecca_L_Smith</td>\n",
       "      <td>28.0</td>\n",
       "      <td>DERMATOLOGY</td>\n",
       "    </tr>\n",
       "    <tr>\n",
       "      <th>4</th>\n",
       "      <td>1689629172</td>\n",
       "      <td>F</td>\n",
       "      <td>0.000000</td>\n",
       "      <td>100.0</td>\n",
       "      <td>100.0</td>\n",
       "      <td>/doctors/Dr_Lynne_Kaplinsky</td>\n",
       "      <td>26.0</td>\n",
       "      <td>OPHTHALMOLOGY</td>\n",
       "    </tr>\n",
       "    <tr>\n",
       "      <th>6</th>\n",
       "      <td>1356374177</td>\n",
       "      <td>F</td>\n",
       "      <td>50.000000</td>\n",
       "      <td>50.0</td>\n",
       "      <td>50.0</td>\n",
       "      <td>/doctors/Dr_Margaret_Bertrand</td>\n",
       "      <td>44.0</td>\n",
       "      <td>DIAGNOSTIC RADIOLOGY</td>\n",
       "    </tr>\n",
       "    <tr>\n",
       "      <th>8</th>\n",
       "      <td>1770507352</td>\n",
       "      <td>F</td>\n",
       "      <td>0.000000</td>\n",
       "      <td>81.0</td>\n",
       "      <td>81.0</td>\n",
       "      <td>/doctors/Dr_Lynne_Mcelhinney</td>\n",
       "      <td>23.0</td>\n",
       "      <td>OPHTHALMOLOGY</td>\n",
       "    </tr>\n",
       "  </tbody>\n",
       "</table>\n",
       "</div>"
      ],
      "text/plain": [
       "          NPI Gender        std  median   mean                           href  \\\n",
       "1  1205831344      M  40.000000   100.0   80.0      /doctors/Dr_Gary_Rylander   \n",
       "3  1366412033      F  46.007246    95.0   65.0    /doctors/Dr_Rebecca_L_Smith   \n",
       "4  1689629172      F   0.000000   100.0  100.0    /doctors/Dr_Lynne_Kaplinsky   \n",
       "6  1356374177      F  50.000000    50.0   50.0  /doctors/Dr_Margaret_Bertrand   \n",
       "8  1770507352      F   0.000000    81.0   81.0   /doctors/Dr_Lynne_Mcelhinney   \n",
       "\n",
       "   Graduation year     Primary specialty  \n",
       "1             41.0         OPHTHALMOLOGY  \n",
       "3             28.0           DERMATOLOGY  \n",
       "4             26.0         OPHTHALMOLOGY  \n",
       "6             44.0  DIAGNOSTIC RADIOLOGY  \n",
       "8             23.0         OPHTHALMOLOGY  "
      ]
     },
     "execution_count": 45,
     "metadata": {},
     "output_type": "execute_result"
    }
   ],
   "source": [
    "df_2.head()"
   ]
  },
  {
   "cell_type": "code",
   "execution_count": 59,
   "metadata": {
    "collapsed": false
   },
   "outputs": [],
   "source": [
    "df_3 = df_2.rename(columns={\"Graduation year\":\"experienceyear\",\"Primary specialty\":\"specialty\"})"
   ]
  },
  {
   "cell_type": "code",
   "execution_count": 74,
   "metadata": {
    "collapsed": false
   },
   "outputs": [],
   "source": [
    "df_3['specialty'] = df_3['specialty'].astype('category')"
   ]
  },
  {
   "cell_type": "code",
   "execution_count": 75,
   "metadata": {
    "collapsed": true
   },
   "outputs": [],
   "source": [
    "cat_columns = df_3.select_dtypes(['category']).columns"
   ]
  },
  {
   "cell_type": "code",
   "execution_count": 76,
   "metadata": {
    "collapsed": false
   },
   "outputs": [
    {
     "data": {
      "text/plain": [
       "Index(['specialty'], dtype='object')"
      ]
     },
     "execution_count": 76,
     "metadata": {},
     "output_type": "execute_result"
    }
   ],
   "source": [
    "cat_columns"
   ]
  },
  {
   "cell_type": "code",
   "execution_count": 77,
   "metadata": {
    "collapsed": true
   },
   "outputs": [],
   "source": [
    "df_3[cat_columns] = df_3[cat_columns].apply(lambda x: x.cat.codes)"
   ]
  },
  {
   "cell_type": "code",
   "execution_count": 78,
   "metadata": {
    "collapsed": false
   },
   "outputs": [
    {
     "data": {
      "text/html": [
       "<div>\n",
       "<table border=\"1\" class=\"dataframe\">\n",
       "  <thead>\n",
       "    <tr style=\"text-align: right;\">\n",
       "      <th></th>\n",
       "      <th>NPI</th>\n",
       "      <th>Gender</th>\n",
       "      <th>std</th>\n",
       "      <th>median</th>\n",
       "      <th>mean</th>\n",
       "      <th>href</th>\n",
       "      <th>experienceyear</th>\n",
       "      <th>specialty</th>\n",
       "    </tr>\n",
       "  </thead>\n",
       "  <tbody>\n",
       "    <tr>\n",
       "      <th>1</th>\n",
       "      <td>1205831344</td>\n",
       "      <td>M</td>\n",
       "      <td>40.000000</td>\n",
       "      <td>100.0</td>\n",
       "      <td>80.0</td>\n",
       "      <td>/doctors/Dr_Gary_Rylander</td>\n",
       "      <td>41.0</td>\n",
       "      <td>45</td>\n",
       "    </tr>\n",
       "    <tr>\n",
       "      <th>3</th>\n",
       "      <td>1366412033</td>\n",
       "      <td>F</td>\n",
       "      <td>46.007246</td>\n",
       "      <td>95.0</td>\n",
       "      <td>65.0</td>\n",
       "      <td>/doctors/Dr_Rebecca_L_Smith</td>\n",
       "      <td>28.0</td>\n",
       "      <td>15</td>\n",
       "    </tr>\n",
       "    <tr>\n",
       "      <th>4</th>\n",
       "      <td>1689629172</td>\n",
       "      <td>F</td>\n",
       "      <td>0.000000</td>\n",
       "      <td>100.0</td>\n",
       "      <td>100.0</td>\n",
       "      <td>/doctors/Dr_Lynne_Kaplinsky</td>\n",
       "      <td>26.0</td>\n",
       "      <td>45</td>\n",
       "    </tr>\n",
       "    <tr>\n",
       "      <th>6</th>\n",
       "      <td>1356374177</td>\n",
       "      <td>F</td>\n",
       "      <td>50.000000</td>\n",
       "      <td>50.0</td>\n",
       "      <td>50.0</td>\n",
       "      <td>/doctors/Dr_Margaret_Bertrand</td>\n",
       "      <td>44.0</td>\n",
       "      <td>16</td>\n",
       "    </tr>\n",
       "    <tr>\n",
       "      <th>8</th>\n",
       "      <td>1770507352</td>\n",
       "      <td>F</td>\n",
       "      <td>0.000000</td>\n",
       "      <td>81.0</td>\n",
       "      <td>81.0</td>\n",
       "      <td>/doctors/Dr_Lynne_Mcelhinney</td>\n",
       "      <td>23.0</td>\n",
       "      <td>45</td>\n",
       "    </tr>\n",
       "  </tbody>\n",
       "</table>\n",
       "</div>"
      ],
      "text/plain": [
       "          NPI Gender        std  median   mean                           href  \\\n",
       "1  1205831344      M  40.000000   100.0   80.0      /doctors/Dr_Gary_Rylander   \n",
       "3  1366412033      F  46.007246    95.0   65.0    /doctors/Dr_Rebecca_L_Smith   \n",
       "4  1689629172      F   0.000000   100.0  100.0    /doctors/Dr_Lynne_Kaplinsky   \n",
       "6  1356374177      F  50.000000    50.0   50.0  /doctors/Dr_Margaret_Bertrand   \n",
       "8  1770507352      F   0.000000    81.0   81.0   /doctors/Dr_Lynne_Mcelhinney   \n",
       "\n",
       "   experienceyear  specialty  \n",
       "1            41.0         45  \n",
       "3            28.0         15  \n",
       "4            26.0         45  \n",
       "6            44.0         16  \n",
       "8            23.0         45  "
      ]
     },
     "execution_count": 78,
     "metadata": {},
     "output_type": "execute_result"
    }
   ],
   "source": [
    "df_3.head()"
   ]
  },
  {
   "cell_type": "code",
   "execution_count": 79,
   "metadata": {
    "collapsed": true
   },
   "outputs": [],
   "source": [
    "formula = 'mean ~ C(experienceyear) + C(specialty)'"
   ]
  },
  {
   "cell_type": "code",
   "execution_count": 66,
   "metadata": {
    "collapsed": true
   },
   "outputs": [],
   "source": [
    "import statsmodels\n",
    "import statsmodels.api as sm\n",
    "from statsmodels.formula.api import ols"
   ]
  },
  {
   "cell_type": "code",
   "execution_count": 81,
   "metadata": {
    "collapsed": false
   },
   "outputs": [],
   "source": [
    "model = ols(formula, df_3).fit()"
   ]
  },
  {
   "cell_type": "code",
   "execution_count": 82,
   "metadata": {
    "collapsed": false
   },
   "outputs": [],
   "source": [
    "aov_table = statsmodels.stats.anova.anova_lm(model, typ=2)"
   ]
  },
  {
   "cell_type": "code",
   "execution_count": 83,
   "metadata": {
    "collapsed": false
   },
   "outputs": [
    {
     "name": "stdout",
     "output_type": "stream",
     "text": [
      "                         sum_sq       df           F        PR(>F)\n",
      "C(experienceyear)  7.860946e+04     67.0    2.050204  9.308331e-07\n",
      "C(specialty)       5.635665e+06     71.0  138.702410  0.000000e+00\n",
      "Residual           3.770417e+07  65885.0         NaN           NaN\n"
     ]
    }
   ],
   "source": [
    "print(aov_table)"
   ]
  },
  {
   "cell_type": "code",
   "execution_count": 85,
   "metadata": {
    "collapsed": true
   },
   "outputs": [],
   "source": [
    "import matplotlib.pyplot as plt"
   ]
  },
  {
   "cell_type": "code",
   "execution_count": 86,
   "metadata": {
    "collapsed": false
   },
   "outputs": [
    {
     "data": {
      "image/png": "[encoded data removed]",
      "text/plain": [
       "<matplotlib.figure.Figure at 0x189447e87f0>"
      ]
     },
     "metadata": {},
     "output_type": "display_data"
    },
    {
     "data": {
      "image/png": "[encoded data removed]",
      "text/plain": [
       "<matplotlib.figure.Figure at 0x189447e8438>"
      ]
     },
     "metadata": {},
     "output_type": "display_data"
    }
   ],
   "source": [
    "res = model.resid \n",
    "fig = sm.qqplot(res, line='s')\n",
    "plt.show()"
   ]
  },
  {
   "cell_type": "code",
   "execution_count": null,
   "metadata": {
    "collapsed": true
   },
   "outputs": [],
   "source": []
  }
 ],
 "metadata": {
  "kernelspec": {
   "display_name": "Python 3",
   "language": "python",
   "name": "python3"
  },
  "language_info": {
   "codemirror_mode": {
    "name": "ipython",
    "version": 3
   },
   "file_extension": ".py",
   "mimetype": "text/x-python",
   "name": "python",
   "nbconvert_exporter": "python",
   "pygments_lexer": "ipython3",
   "version": "3.6.0"
  }
 },
 "nbformat": 4,
 "nbformat_minor": 2
}
