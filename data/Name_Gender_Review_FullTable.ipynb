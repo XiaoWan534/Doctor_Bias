{
 "cells": [
  {
   "cell_type": "code",
   "execution_count": 1,
   "metadata": {
    "collapsed": true
   },
   "outputs": [],
   "source": [
    "import pandas as pd"
   ]
  },
  {
   "cell_type": "code",
   "execution_count": 2,
   "metadata": {
    "collapsed": true
   },
   "outputs": [],
   "source": [
    "import numpy as np"
   ]
  },
  {
   "cell_type": "code",
   "execution_count": 3,
   "metadata": {
    "collapsed": true
   },
   "outputs": [],
   "source": [
    "doc_list = pd.read_csv(\"doctors_list_t8.csv\")"
   ]
  },
  {
   "cell_type": "code",
   "execution_count": 4,
   "metadata": {
    "collapsed": false
   },
   "outputs": [
    {
     "data": {
      "text/html": [
       "<div>\n",
       "<table border=\"1\" class=\"dataframe\">\n",
       "  <thead>\n",
       "    <tr style=\"text-align: right;\">\n",
       "      <th></th>\n",
       "      <th>Id</th>\n",
       "      <th>initial</th>\n",
       "      <th>href</th>\n",
       "      <th>name</th>\n",
       "      <th>specialties</th>\n",
       "      <th>address</th>\n",
       "      <th>zip</th>\n",
       "    </tr>\n",
       "  </thead>\n",
       "  <tbody>\n",
       "    <tr>\n",
       "      <th>0</th>\n",
       "      <td>3886560</td>\n",
       "      <td>a</td>\n",
       "      <td>/doctors/Dr_Enenge_ABodjedi</td>\n",
       "      <td>Enenge Abodjedi</td>\n",
       "      <td>['Psychiatrist']</td>\n",
       "      <td>Stamford, CT 06902</td>\n",
       "      <td>06902</td>\n",
       "    </tr>\n",
       "    <tr>\n",
       "      <th>1</th>\n",
       "      <td>3886561</td>\n",
       "      <td>a</td>\n",
       "      <td>/doctors/Dr_Brady_AHearn</td>\n",
       "      <td>Brady J A'Hearn</td>\n",
       "      <td>['Pediatrician']</td>\n",
       "      <td>Iowa City, IA 52242</td>\n",
       "      <td>52242</td>\n",
       "    </tr>\n",
       "    <tr>\n",
       "      <th>2</th>\n",
       "      <td>3886562</td>\n",
       "      <td>a</td>\n",
       "      <td>/doctors/Dr_Yousif_Arahim</td>\n",
       "      <td>Yousif A-Rahim</td>\n",
       "      <td>['Gastroenterologist (digestive)', ' Internist']</td>\n",
       "      <td>Aiea, HI 96701</td>\n",
       "      <td>96701</td>\n",
       "    </tr>\n",
       "    <tr>\n",
       "      <th>3</th>\n",
       "      <td>3886563</td>\n",
       "      <td>a</td>\n",
       "      <td>/doctors/Dr_Noor_Al_Khori</td>\n",
       "      <td>Noor Al Khori</td>\n",
       "      <td>['Student']</td>\n",
       "      <td>Grand Rapids, MI 49503</td>\n",
       "      <td>49503</td>\n",
       "    </tr>\n",
       "    <tr>\n",
       "      <th>4</th>\n",
       "      <td>3886564</td>\n",
       "      <td>a</td>\n",
       "      <td>/doctors/Dr_Salam_Al-Hafidh</td>\n",
       "      <td>Salam N Al-Hafidh</td>\n",
       "      <td>['Pediatrician']</td>\n",
       "      <td>Richland Hills, TX 76180</td>\n",
       "      <td>76180</td>\n",
       "    </tr>\n",
       "  </tbody>\n",
       "</table>\n",
       "</div>"
      ],
      "text/plain": [
       "        Id initial                         href               name  \\\n",
       "0  3886560       a  /doctors/Dr_Enenge_ABodjedi    Enenge Abodjedi   \n",
       "1  3886561       a     /doctors/Dr_Brady_AHearn    Brady J A'Hearn   \n",
       "2  3886562       a    /doctors/Dr_Yousif_Arahim     Yousif A-Rahim   \n",
       "3  3886563       a    /doctors/Dr_Noor_Al_Khori      Noor Al Khori   \n",
       "4  3886564       a  /doctors/Dr_Salam_Al-Hafidh  Salam N Al-Hafidh   \n",
       "\n",
       "                                        specialties                   address  \\\n",
       "0                                  ['Psychiatrist']        Stamford, CT 06902   \n",
       "1                                  ['Pediatrician']       Iowa City, IA 52242   \n",
       "2  ['Gastroenterologist (digestive)', ' Internist']            Aiea, HI 96701   \n",
       "3                                       ['Student']    Grand Rapids, MI 49503   \n",
       "4                                  ['Pediatrician']  Richland Hills, TX 76180   \n",
       "\n",
       "     zip  \n",
       "0  06902  \n",
       "1  52242  \n",
       "2  96701  \n",
       "3  49503  \n",
       "4  76180  "
      ]
     },
     "execution_count": 4,
     "metadata": {},
     "output_type": "execute_result"
    }
   ],
   "source": [
    "doc_list.head()"
   ]
  },
  {
   "cell_type": "code",
   "execution_count": 5,
   "metadata": {
    "collapsed": true
   },
   "outputs": [],
   "source": [
    "df_list = doc_list.loc[:,['href','name']]"
   ]
  },
  {
   "cell_type": "code",
   "execution_count": 6,
   "metadata": {
    "collapsed": true
   },
   "outputs": [],
   "source": [
    "rew_panel = pd.read_csv(\"reviews_panel_t8.csv\")"
   ]
  },
  {
   "cell_type": "code",
   "execution_count": 8,
   "metadata": {
    "collapsed": false,
    "scrolled": true
   },
   "outputs": [
    {
     "data": {
      "text/html": [
       "<div>\n",
       "<table border=\"1\" class=\"dataframe\">\n",
       "  <thead>\n",
       "    <tr style=\"text-align: right;\">\n",
       "      <th></th>\n",
       "      <th>Id</th>\n",
       "      <th>review_id</th>\n",
       "      <th>href</th>\n",
       "      <th>overall_rating</th>\n",
       "      <th>Ease_of_Appointment</th>\n",
       "      <th>Promptness</th>\n",
       "      <th>Courteous_Staff</th>\n",
       "      <th>Accurate_Diagnosis</th>\n",
       "      <th>Bedside_Manner</th>\n",
       "      <th>Spends_Time_with_Me</th>\n",
       "      <th>...</th>\n",
       "      <th>Advanced_Technology</th>\n",
       "      <th>Caring_Manner</th>\n",
       "      <th>Pain_Minimized</th>\n",
       "      <th>Satisfaction</th>\n",
       "      <th>date</th>\n",
       "      <th>reviewer</th>\n",
       "      <th>title</th>\n",
       "      <th>content</th>\n",
       "      <th>helpful_vote</th>\n",
       "      <th>crawl_date</th>\n",
       "    </tr>\n",
       "  </thead>\n",
       "  <tbody>\n",
       "    <tr>\n",
       "      <th>0</th>\n",
       "      <td>12949966</td>\n",
       "      <td>23507540</td>\n",
       "      <td>/dentists/Dr_Aarika_Anderson_Elter</td>\n",
       "      <td>5</td>\n",
       "      <td>4.0</td>\n",
       "      <td>NaN</td>\n",
       "      <td>NaN</td>\n",
       "      <td>NaN</td>\n",
       "      <td>NaN</td>\n",
       "      <td>NaN</td>\n",
       "      <td>...</td>\n",
       "      <td>NaN</td>\n",
       "      <td>5.0</td>\n",
       "      <td>5.0</td>\n",
       "      <td>NaN</td>\n",
       "      <td>2012-11-16</td>\n",
       "      <td>NaN</td>\n",
       "      <td>Great results</td>\n",
       "      <td>Dr. Anderson explained in detail my options fo...</td>\n",
       "      <td>NaN</td>\n",
       "      <td>2016-09-06 20:54:01</td>\n",
       "    </tr>\n",
       "    <tr>\n",
       "      <th>1</th>\n",
       "      <td>12949967</td>\n",
       "      <td>27184431</td>\n",
       "      <td>/dentists/Dr_Aamir_Wahab</td>\n",
       "      <td>5</td>\n",
       "      <td>5.0</td>\n",
       "      <td>NaN</td>\n",
       "      <td>NaN</td>\n",
       "      <td>NaN</td>\n",
       "      <td>NaN</td>\n",
       "      <td>NaN</td>\n",
       "      <td>...</td>\n",
       "      <td>5.0</td>\n",
       "      <td>5.0</td>\n",
       "      <td>5.0</td>\n",
       "      <td>5.0</td>\n",
       "      <td>2015-03-15</td>\n",
       "      <td>Brad s.</td>\n",
       "      <td>implant</td>\n",
       "      <td>Had an implant done and it was painless. I cou...</td>\n",
       "      <td>NaN</td>\n",
       "      <td>2016-09-06 20:54:10</td>\n",
       "    </tr>\n",
       "    <tr>\n",
       "      <th>2</th>\n",
       "      <td>12949968</td>\n",
       "      <td>26307282</td>\n",
       "      <td>/dentists/Dr_Aanal_Parikh</td>\n",
       "      <td>1</td>\n",
       "      <td>1.0</td>\n",
       "      <td>NaN</td>\n",
       "      <td>NaN</td>\n",
       "      <td>NaN</td>\n",
       "      <td>NaN</td>\n",
       "      <td>NaN</td>\n",
       "      <td>...</td>\n",
       "      <td>1.0</td>\n",
       "      <td>1.0</td>\n",
       "      <td>1.0</td>\n",
       "      <td>1.0</td>\n",
       "      <td>2014-10-12</td>\n",
       "      <td>Bill johnson</td>\n",
       "      <td>Warning ..would not see this dentist</td>\n",
       "      <td>Do not go to this dentist office they scam peo...</td>\n",
       "      <td>NaN</td>\n",
       "      <td>2016-09-06 20:54:13</td>\n",
       "    </tr>\n",
       "    <tr>\n",
       "      <th>3</th>\n",
       "      <td>12949969</td>\n",
       "      <td>28904504</td>\n",
       "      <td>/dentists/Dr_Aaron_Aguilar</td>\n",
       "      <td>5</td>\n",
       "      <td>5.0</td>\n",
       "      <td>NaN</td>\n",
       "      <td>NaN</td>\n",
       "      <td>NaN</td>\n",
       "      <td>NaN</td>\n",
       "      <td>NaN</td>\n",
       "      <td>...</td>\n",
       "      <td>5.0</td>\n",
       "      <td>5.0</td>\n",
       "      <td>5.0</td>\n",
       "      <td>5.0</td>\n",
       "      <td>2015-06-11</td>\n",
       "      <td>NaN</td>\n",
       "      <td>NaN</td>\n",
       "      <td>Very thoughtful Dr.  Communicates/bedside mann...</td>\n",
       "      <td>NaN</td>\n",
       "      <td>2016-09-06 20:54:14</td>\n",
       "    </tr>\n",
       "    <tr>\n",
       "      <th>4</th>\n",
       "      <td>12949970</td>\n",
       "      <td>28380953</td>\n",
       "      <td>/dentists/Dr_Aaron_D_Larsen</td>\n",
       "      <td>4</td>\n",
       "      <td>3.0</td>\n",
       "      <td>NaN</td>\n",
       "      <td>NaN</td>\n",
       "      <td>NaN</td>\n",
       "      <td>NaN</td>\n",
       "      <td>NaN</td>\n",
       "      <td>...</td>\n",
       "      <td>4.0</td>\n",
       "      <td>4.0</td>\n",
       "      <td>4.0</td>\n",
       "      <td>5.0</td>\n",
       "      <td>2015-03-31</td>\n",
       "      <td>NaN</td>\n",
       "      <td>Dr larsen great others no</td>\n",
       "      <td>Would continue to see Dr.  Larsen however his ...</td>\n",
       "      <td>NaN</td>\n",
       "      <td>2016-09-06 20:54:18</td>\n",
       "    </tr>\n",
       "  </tbody>\n",
       "</table>\n",
       "<p>5 rows × 23 columns</p>\n",
       "</div>"
      ],
      "text/plain": [
       "         Id  review_id                                href  overall_rating  \\\n",
       "0  12949966   23507540  /dentists/Dr_Aarika_Anderson_Elter               5   \n",
       "1  12949967   27184431            /dentists/Dr_Aamir_Wahab               5   \n",
       "2  12949968   26307282           /dentists/Dr_Aanal_Parikh               1   \n",
       "3  12949969   28904504          /dentists/Dr_Aaron_Aguilar               5   \n",
       "4  12949970   28380953         /dentists/Dr_Aaron_D_Larsen               4   \n",
       "\n",
       "   Ease_of_Appointment  Promptness  Courteous_Staff  Accurate_Diagnosis  \\\n",
       "0                  4.0         NaN              NaN                 NaN   \n",
       "1                  5.0         NaN              NaN                 NaN   \n",
       "2                  1.0         NaN              NaN                 NaN   \n",
       "3                  5.0         NaN              NaN                 NaN   \n",
       "4                  3.0         NaN              NaN                 NaN   \n",
       "\n",
       "   Bedside_Manner  Spends_Time_with_Me         ...           \\\n",
       "0             NaN                  NaN         ...            \n",
       "1             NaN                  NaN         ...            \n",
       "2             NaN                  NaN         ...            \n",
       "3             NaN                  NaN         ...            \n",
       "4             NaN                  NaN         ...            \n",
       "\n",
       "   Advanced_Technology  Caring_Manner  Pain_Minimized  Satisfaction  \\\n",
       "0                  NaN            5.0             5.0           NaN   \n",
       "1                  5.0            5.0             5.0           5.0   \n",
       "2                  1.0            1.0             1.0           1.0   \n",
       "3                  5.0            5.0             5.0           5.0   \n",
       "4                  4.0            4.0             4.0           5.0   \n",
       "\n",
       "         date      reviewer                                 title  \\\n",
       "0  2012-11-16           NaN                        Great results    \n",
       "1  2015-03-15       Brad s.                               implant   \n",
       "2  2014-10-12  Bill johnson  Warning ..would not see this dentist   \n",
       "3  2015-06-11           NaN                                   NaN   \n",
       "4  2015-03-31           NaN             Dr larsen great others no   \n",
       "\n",
       "                                             content helpful_vote  \\\n",
       "0  Dr. Anderson explained in detail my options fo...          NaN   \n",
       "1  Had an implant done and it was painless. I cou...          NaN   \n",
       "2  Do not go to this dentist office they scam peo...          NaN   \n",
       "3  Very thoughtful Dr.  Communicates/bedside mann...          NaN   \n",
       "4  Would continue to see Dr.  Larsen however his ...          NaN   \n",
       "\n",
       "            crawl_date  \n",
       "0  2016-09-06 20:54:01  \n",
       "1  2016-09-06 20:54:10  \n",
       "2  2016-09-06 20:54:13  \n",
       "3  2016-09-06 20:54:14  \n",
       "4  2016-09-06 20:54:18  \n",
       "\n",
       "[5 rows x 23 columns]"
      ]
     },
     "execution_count": 8,
     "metadata": {},
     "output_type": "execute_result"
    }
   ],
   "source": [
    "rew_panel.head()"
   ]
  },
  {
   "cell_type": "code",
   "execution_count": 16,
   "metadata": {
    "collapsed": false
   },
   "outputs": [
    {
     "data": {
      "text/plain": [
       "(1796204, 23)"
      ]
     },
     "execution_count": 16,
     "metadata": {},
     "output_type": "execute_result"
    }
   ],
   "source": [
    "np.shape(rew_panel)"
   ]
  },
  {
   "cell_type": "code",
   "execution_count": 9,
   "metadata": {
    "collapsed": true
   },
   "outputs": [],
   "source": [
    "df_review = rew_panel.loc[:,['href','content']]"
   ]
  },
  {
   "cell_type": "code",
   "execution_count": 10,
   "metadata": {
    "collapsed": false
   },
   "outputs": [
    {
     "data": {
      "text/html": [
       "<div>\n",
       "<table border=\"1\" class=\"dataframe\">\n",
       "  <thead>\n",
       "    <tr style=\"text-align: right;\">\n",
       "      <th></th>\n",
       "      <th>href</th>\n",
       "      <th>content</th>\n",
       "    </tr>\n",
       "  </thead>\n",
       "  <tbody>\n",
       "    <tr>\n",
       "      <th>0</th>\n",
       "      <td>/dentists/Dr_Aarika_Anderson_Elter</td>\n",
       "      <td>Dr. Anderson explained in detail my options fo...</td>\n",
       "    </tr>\n",
       "    <tr>\n",
       "      <th>1</th>\n",
       "      <td>/dentists/Dr_Aamir_Wahab</td>\n",
       "      <td>Had an implant done and it was painless. I cou...</td>\n",
       "    </tr>\n",
       "    <tr>\n",
       "      <th>2</th>\n",
       "      <td>/dentists/Dr_Aanal_Parikh</td>\n",
       "      <td>Do not go to this dentist office they scam peo...</td>\n",
       "    </tr>\n",
       "    <tr>\n",
       "      <th>3</th>\n",
       "      <td>/dentists/Dr_Aaron_Aguilar</td>\n",
       "      <td>Very thoughtful Dr.  Communicates/bedside mann...</td>\n",
       "    </tr>\n",
       "    <tr>\n",
       "      <th>4</th>\n",
       "      <td>/dentists/Dr_Aaron_D_Larsen</td>\n",
       "      <td>Would continue to see Dr.  Larsen however his ...</td>\n",
       "    </tr>\n",
       "  </tbody>\n",
       "</table>\n",
       "</div>"
      ],
      "text/plain": [
       "                                 href  \\\n",
       "0  /dentists/Dr_Aarika_Anderson_Elter   \n",
       "1            /dentists/Dr_Aamir_Wahab   \n",
       "2           /dentists/Dr_Aanal_Parikh   \n",
       "3          /dentists/Dr_Aaron_Aguilar   \n",
       "4         /dentists/Dr_Aaron_D_Larsen   \n",
       "\n",
       "                                             content  \n",
       "0  Dr. Anderson explained in detail my options fo...  \n",
       "1  Had an implant done and it was painless. I cou...  \n",
       "2  Do not go to this dentist office they scam peo...  \n",
       "3  Very thoughtful Dr.  Communicates/bedside mann...  \n",
       "4  Would continue to see Dr.  Larsen however his ...  "
      ]
     },
     "execution_count": 10,
     "metadata": {},
     "output_type": "execute_result"
    }
   ],
   "source": [
    "df_review.head()"
   ]
  },
  {
   "cell_type": "code",
   "execution_count": 11,
   "metadata": {
    "collapsed": false
   },
   "outputs": [],
   "source": [
    "duplicates = df_review.content.duplicated(keep=False)"
   ]
  },
  {
   "cell_type": "code",
   "execution_count": 12,
   "metadata": {
    "collapsed": false
   },
   "outputs": [
    {
     "data": {
      "text/html": [
       "<div>\n",
       "<table border=\"1\" class=\"dataframe\">\n",
       "  <thead>\n",
       "    <tr style=\"text-align: right;\">\n",
       "      <th></th>\n",
       "      <th>href</th>\n",
       "      <th>content</th>\n",
       "    </tr>\n",
       "  </thead>\n",
       "  <tbody>\n",
       "    <tr>\n",
       "      <th>24</th>\n",
       "      <td>/dentists/Dr_Aaron_Memon</td>\n",
       "      <td>Honest</td>\n",
       "    </tr>\n",
       "    <tr>\n",
       "      <th>57</th>\n",
       "      <td>/dentists/Dr_Aaron_Walker</td>\n",
       "      <td>Very little pain</td>\n",
       "    </tr>\n",
       "    <tr>\n",
       "      <th>86</th>\n",
       "      <td>/dentists/Dr_Abdolhossein_Shahrasbi</td>\n",
       "      <td>He is great doctor.</td>\n",
       "    </tr>\n",
       "    <tr>\n",
       "      <th>93</th>\n",
       "      <td>/dentists/Dr_Abdul-Sattar_Shakfa</td>\n",
       "      <td>One of the best dentist ever.</td>\n",
       "    </tr>\n",
       "    <tr>\n",
       "      <th>107</th>\n",
       "      <td>/dentists/Dr_Abdulla_Zoobi</td>\n",
       "      <td>Great dentist</td>\n",
       "    </tr>\n",
       "  </tbody>\n",
       "</table>\n",
       "</div>"
      ],
      "text/plain": [
       "                                    href                        content\n",
       "24              /dentists/Dr_Aaron_Memon                         Honest\n",
       "57             /dentists/Dr_Aaron_Walker               Very little pain\n",
       "86   /dentists/Dr_Abdolhossein_Shahrasbi            He is great doctor.\n",
       "93      /dentists/Dr_Abdul-Sattar_Shakfa  One of the best dentist ever.\n",
       "107           /dentists/Dr_Abdulla_Zoobi                  Great dentist"
      ]
     },
     "execution_count": 12,
     "metadata": {},
     "output_type": "execute_result"
    }
   ],
   "source": [
    "df_review[duplicates].head()"
   ]
  },
  {
   "cell_type": "code",
   "execution_count": 13,
   "metadata": {
    "collapsed": false
   },
   "outputs": [],
   "source": [
    "df = pd.merge(df_review, df_list, on=['href'])"
   ]
  },
  {
   "cell_type": "code",
   "execution_count": 14,
   "metadata": {
    "collapsed": false
   },
   "outputs": [
    {
     "data": {
      "text/html": [
       "<div>\n",
       "<table border=\"1\" class=\"dataframe\">\n",
       "  <thead>\n",
       "    <tr style=\"text-align: right;\">\n",
       "      <th></th>\n",
       "      <th>href</th>\n",
       "      <th>content</th>\n",
       "      <th>name</th>\n",
       "    </tr>\n",
       "  </thead>\n",
       "  <tbody>\n",
       "    <tr>\n",
       "      <th>0</th>\n",
       "      <td>/dentists/Dr_Aarika_Anderson_Elter</td>\n",
       "      <td>Dr. Anderson explained in detail my options fo...</td>\n",
       "      <td>Aarika D Anderson Elter</td>\n",
       "    </tr>\n",
       "    <tr>\n",
       "      <th>1</th>\n",
       "      <td>/dentists/Dr_Aamir_Wahab</td>\n",
       "      <td>Had an implant done and it was painless. I cou...</td>\n",
       "      <td>Aamir Wahab</td>\n",
       "    </tr>\n",
       "    <tr>\n",
       "      <th>2</th>\n",
       "      <td>/dentists/Dr_Aanal_Parikh</td>\n",
       "      <td>Do not go to this dentist office they scam peo...</td>\n",
       "      <td>Aanal K Parikh</td>\n",
       "    </tr>\n",
       "    <tr>\n",
       "      <th>3</th>\n",
       "      <td>/dentists/Dr_Aaron_Aguilar</td>\n",
       "      <td>Very thoughtful Dr.  Communicates/bedside mann...</td>\n",
       "      <td>Aaron D Aguilar</td>\n",
       "    </tr>\n",
       "    <tr>\n",
       "      <th>4</th>\n",
       "      <td>/dentists/Dr_Aaron_D_Larsen</td>\n",
       "      <td>Would continue to see Dr.  Larsen however his ...</td>\n",
       "      <td>Aaron D Larsen</td>\n",
       "    </tr>\n",
       "  </tbody>\n",
       "</table>\n",
       "</div>"
      ],
      "text/plain": [
       "                                 href  \\\n",
       "0  /dentists/Dr_Aarika_Anderson_Elter   \n",
       "1            /dentists/Dr_Aamir_Wahab   \n",
       "2           /dentists/Dr_Aanal_Parikh   \n",
       "3          /dentists/Dr_Aaron_Aguilar   \n",
       "4         /dentists/Dr_Aaron_D_Larsen   \n",
       "\n",
       "                                             content                     name  \n",
       "0  Dr. Anderson explained in detail my options fo...  Aarika D Anderson Elter  \n",
       "1  Had an implant done and it was painless. I cou...              Aamir Wahab  \n",
       "2  Do not go to this dentist office they scam peo...           Aanal K Parikh  \n",
       "3  Very thoughtful Dr.  Communicates/bedside mann...          Aaron D Aguilar  \n",
       "4  Would continue to see Dr.  Larsen however his ...           Aaron D Larsen  "
      ]
     },
     "execution_count": 14,
     "metadata": {},
     "output_type": "execute_result"
    }
   ],
   "source": [
    "df.head()"
   ]
  },
  {
   "cell_type": "code",
   "execution_count": 15,
   "metadata": {
    "collapsed": false
   },
   "outputs": [
    {
     "data": {
      "text/html": [
       "<div>\n",
       "<table border=\"1\" class=\"dataframe\">\n",
       "  <thead>\n",
       "    <tr style=\"text-align: right;\">\n",
       "      <th></th>\n",
       "      <th>href</th>\n",
       "      <th>content</th>\n",
       "      <th>name</th>\n",
       "    </tr>\n",
       "  </thead>\n",
       "  <tbody>\n",
       "    <tr>\n",
       "      <th>1795192</th>\n",
       "      <td>/doctors/Dr_Ramy_Doss</td>\n",
       "      <td>Love  Dr. Army  Doss.  He saved my life- a hea...</td>\n",
       "      <td>Ramy S Doss</td>\n",
       "    </tr>\n",
       "    <tr>\n",
       "      <th>1795193</th>\n",
       "      <td>/doctors/Dr_Ramy_Doss</td>\n",
       "      <td>I met Dr. Doss during a very stressful time an...</td>\n",
       "      <td>Ramy S Doss</td>\n",
       "    </tr>\n",
       "    <tr>\n",
       "      <th>1795194</th>\n",
       "      <td>/doctors/Dr_Ramy_Doss</td>\n",
       "      <td>IF IT WEREN'T FOR DR. DOSS' ACCURATE DIAGNOSIS...</td>\n",
       "      <td>Ramy S Doss</td>\n",
       "    </tr>\n",
       "    <tr>\n",
       "      <th>1795195</th>\n",
       "      <td>/doctors/Dr_Randall_Edson</td>\n",
       "      <td>dr. edson is as good as it gets for being pers...</td>\n",
       "      <td>Randall S Edson</td>\n",
       "    </tr>\n",
       "    <tr>\n",
       "      <th>1795196</th>\n",
       "      <td>/doctors/Dr_Randall_Farrar</td>\n",
       "      <td>Great Doc! Really cares.</td>\n",
       "      <td>J Randall R Farrar</td>\n",
       "    </tr>\n",
       "  </tbody>\n",
       "</table>\n",
       "</div>"
      ],
      "text/plain": [
       "                               href  \\\n",
       "1795192       /doctors/Dr_Ramy_Doss   \n",
       "1795193       /doctors/Dr_Ramy_Doss   \n",
       "1795194       /doctors/Dr_Ramy_Doss   \n",
       "1795195   /doctors/Dr_Randall_Edson   \n",
       "1795196  /doctors/Dr_Randall_Farrar   \n",
       "\n",
       "                                                   content                name  \n",
       "1795192  Love  Dr. Army  Doss.  He saved my life- a hea...         Ramy S Doss  \n",
       "1795193  I met Dr. Doss during a very stressful time an...         Ramy S Doss  \n",
       "1795194  IF IT WEREN'T FOR DR. DOSS' ACCURATE DIAGNOSIS...         Ramy S Doss  \n",
       "1795195  dr. edson is as good as it gets for being pers...     Randall S Edson  \n",
       "1795196                           Great Doc! Really cares.  J Randall R Farrar  "
      ]
     },
     "execution_count": 15,
     "metadata": {},
     "output_type": "execute_result"
    }
   ],
   "source": [
    "df.tail()"
   ]
  },
  {
   "cell_type": "code",
   "execution_count": 17,
   "metadata": {
    "collapsed": false
   },
   "outputs": [
    {
     "data": {
      "text/plain": [
       "href       0\n",
       "content    2\n",
       "name       0\n",
       "dtype: int64"
      ]
     },
     "execution_count": 17,
     "metadata": {},
     "output_type": "execute_result"
    }
   ],
   "source": [
    "pd.isnull(df).sum()"
   ]
  },
  {
   "cell_type": "code",
   "execution_count": 18,
   "metadata": {
    "collapsed": false
   },
   "outputs": [],
   "source": [
    "df = df.dropna()"
   ]
  },
  {
   "cell_type": "code",
   "execution_count": 19,
   "metadata": {
    "collapsed": false
   },
   "outputs": [
    {
     "data": {
      "text/plain": [
       "href       0\n",
       "content    0\n",
       "name       0\n",
       "dtype: int64"
      ]
     },
     "execution_count": 19,
     "metadata": {},
     "output_type": "execute_result"
    }
   ],
   "source": [
    "pd.isnull(df).sum()"
   ]
  },
  {
   "cell_type": "code",
   "execution_count": 20,
   "metadata": {
    "collapsed": true
   },
   "outputs": [],
   "source": [
    "df['gender_fact'] = 'na'"
   ]
  },
  {
   "cell_type": "code",
   "execution_count": 21,
   "metadata": {
    "collapsed": false
   },
   "outputs": [
    {
     "data": {
      "text/html": [
       "<div>\n",
       "<table border=\"1\" class=\"dataframe\">\n",
       "  <thead>\n",
       "    <tr style=\"text-align: right;\">\n",
       "      <th></th>\n",
       "      <th>href</th>\n",
       "      <th>content</th>\n",
       "      <th>name</th>\n",
       "      <th>gender_fact</th>\n",
       "    </tr>\n",
       "  </thead>\n",
       "  <tbody>\n",
       "    <tr>\n",
       "      <th>0</th>\n",
       "      <td>/dentists/Dr_Aarika_Anderson_Elter</td>\n",
       "      <td>Dr. Anderson explained in detail my options fo...</td>\n",
       "      <td>Aarika D Anderson Elter</td>\n",
       "      <td>na</td>\n",
       "    </tr>\n",
       "    <tr>\n",
       "      <th>1</th>\n",
       "      <td>/dentists/Dr_Aamir_Wahab</td>\n",
       "      <td>Had an implant done and it was painless. I cou...</td>\n",
       "      <td>Aamir Wahab</td>\n",
       "      <td>na</td>\n",
       "    </tr>\n",
       "    <tr>\n",
       "      <th>2</th>\n",
       "      <td>/dentists/Dr_Aanal_Parikh</td>\n",
       "      <td>Do not go to this dentist office they scam peo...</td>\n",
       "      <td>Aanal K Parikh</td>\n",
       "      <td>na</td>\n",
       "    </tr>\n",
       "    <tr>\n",
       "      <th>3</th>\n",
       "      <td>/dentists/Dr_Aaron_Aguilar</td>\n",
       "      <td>Very thoughtful Dr.  Communicates/bedside mann...</td>\n",
       "      <td>Aaron D Aguilar</td>\n",
       "      <td>na</td>\n",
       "    </tr>\n",
       "    <tr>\n",
       "      <th>4</th>\n",
       "      <td>/dentists/Dr_Aaron_D_Larsen</td>\n",
       "      <td>Would continue to see Dr.  Larsen however his ...</td>\n",
       "      <td>Aaron D Larsen</td>\n",
       "      <td>na</td>\n",
       "    </tr>\n",
       "  </tbody>\n",
       "</table>\n",
       "</div>"
      ],
      "text/plain": [
       "                                 href  \\\n",
       "0  /dentists/Dr_Aarika_Anderson_Elter   \n",
       "1            /dentists/Dr_Aamir_Wahab   \n",
       "2           /dentists/Dr_Aanal_Parikh   \n",
       "3          /dentists/Dr_Aaron_Aguilar   \n",
       "4         /dentists/Dr_Aaron_D_Larsen   \n",
       "\n",
       "                                             content                     name  \\\n",
       "0  Dr. Anderson explained in detail my options fo...  Aarika D Anderson Elter   \n",
       "1  Had an implant done and it was painless. I cou...              Aamir Wahab   \n",
       "2  Do not go to this dentist office they scam peo...           Aanal K Parikh   \n",
       "3  Very thoughtful Dr.  Communicates/bedside mann...          Aaron D Aguilar   \n",
       "4  Would continue to see Dr.  Larsen however his ...           Aaron D Larsen   \n",
       "\n",
       "  gender_fact  \n",
       "0          na  \n",
       "1          na  \n",
       "2          na  \n",
       "3          na  \n",
       "4          na  "
      ]
     },
     "execution_count": 21,
     "metadata": {},
     "output_type": "execute_result"
    }
   ],
   "source": [
    "df.head()"
   ]
  },
  {
   "cell_type": "code",
   "execution_count": 22,
   "metadata": {
    "collapsed": false
   },
   "outputs": [],
   "source": [
    "import re"
   ]
  },
  {
   "cell_type": "code",
   "execution_count": 23,
   "metadata": {
    "collapsed": false
   },
   "outputs": [],
   "source": [
    "for i in np.arange(len(df)):\n",
    "    s = df.iloc[i,1]\n",
    "    s = s.lower().strip() \n",
    "    s = re.sub('[^a-z]',' ',s)\n",
    "    s = s.split(' ')\n",
    "    if \"she\" in s:\n",
    "        df.iloc[i,3] = 'F'\n",
    "    elif \"her\" in s:\n",
    "        df.iloc[i,3] = 'F' \n",
    "    elif \"he\" in s:\n",
    "        df.iloc[i,3] = 'M'\n",
    "    elif \"his\" in s:\n",
    "        df.iloc[i,3] = 'M'\n",
    "    elif \"him\" in s:\n",
    "        df.iloc[i,3] = 'M'\n",
    "    else: df.iloc[i,3] = 'NA'"
   ]
  },
  {
   "cell_type": "code",
   "execution_count": 24,
   "metadata": {
    "collapsed": false
   },
   "outputs": [
    {
     "data": {
      "text/html": [
       "<div>\n",
       "<table border=\"1\" class=\"dataframe\">\n",
       "  <thead>\n",
       "    <tr style=\"text-align: right;\">\n",
       "      <th></th>\n",
       "      <th>href</th>\n",
       "      <th>content</th>\n",
       "      <th>name</th>\n",
       "      <th>gender_fact</th>\n",
       "    </tr>\n",
       "  </thead>\n",
       "  <tbody>\n",
       "    <tr>\n",
       "      <th>0</th>\n",
       "      <td>/dentists/Dr_Aarika_Anderson_Elter</td>\n",
       "      <td>Dr. Anderson explained in detail my options fo...</td>\n",
       "      <td>Aarika D Anderson Elter</td>\n",
       "      <td>NA</td>\n",
       "    </tr>\n",
       "    <tr>\n",
       "      <th>1</th>\n",
       "      <td>/dentists/Dr_Aamir_Wahab</td>\n",
       "      <td>Had an implant done and it was painless. I cou...</td>\n",
       "      <td>Aamir Wahab</td>\n",
       "      <td>M</td>\n",
       "    </tr>\n",
       "    <tr>\n",
       "      <th>2</th>\n",
       "      <td>/dentists/Dr_Aanal_Parikh</td>\n",
       "      <td>Do not go to this dentist office they scam peo...</td>\n",
       "      <td>Aanal K Parikh</td>\n",
       "      <td>NA</td>\n",
       "    </tr>\n",
       "    <tr>\n",
       "      <th>3</th>\n",
       "      <td>/dentists/Dr_Aaron_Aguilar</td>\n",
       "      <td>Very thoughtful Dr.  Communicates/bedside mann...</td>\n",
       "      <td>Aaron D Aguilar</td>\n",
       "      <td>NA</td>\n",
       "    </tr>\n",
       "    <tr>\n",
       "      <th>4</th>\n",
       "      <td>/dentists/Dr_Aaron_D_Larsen</td>\n",
       "      <td>Would continue to see Dr.  Larsen however his ...</td>\n",
       "      <td>Aaron D Larsen</td>\n",
       "      <td>M</td>\n",
       "    </tr>\n",
       "  </tbody>\n",
       "</table>\n",
       "</div>"
      ],
      "text/plain": [
       "                                 href  \\\n",
       "0  /dentists/Dr_Aarika_Anderson_Elter   \n",
       "1            /dentists/Dr_Aamir_Wahab   \n",
       "2           /dentists/Dr_Aanal_Parikh   \n",
       "3          /dentists/Dr_Aaron_Aguilar   \n",
       "4         /dentists/Dr_Aaron_D_Larsen   \n",
       "\n",
       "                                             content                     name  \\\n",
       "0  Dr. Anderson explained in detail my options fo...  Aarika D Anderson Elter   \n",
       "1  Had an implant done and it was painless. I cou...              Aamir Wahab   \n",
       "2  Do not go to this dentist office they scam peo...           Aanal K Parikh   \n",
       "3  Very thoughtful Dr.  Communicates/bedside mann...          Aaron D Aguilar   \n",
       "4  Would continue to see Dr.  Larsen however his ...           Aaron D Larsen   \n",
       "\n",
       "  gender_fact  \n",
       "0          NA  \n",
       "1           M  \n",
       "2          NA  \n",
       "3          NA  \n",
       "4           M  "
      ]
     },
     "execution_count": 24,
     "metadata": {},
     "output_type": "execute_result"
    }
   ],
   "source": [
    "df.head()"
   ]
  },
  {
   "cell_type": "code",
   "execution_count": 25,
   "metadata": {
    "collapsed": false
   },
   "outputs": [
    {
     "data": {
      "text/html": [
       "<div>\n",
       "<table border=\"1\" class=\"dataframe\">\n",
       "  <thead>\n",
       "    <tr style=\"text-align: right;\">\n",
       "      <th></th>\n",
       "      <th>href</th>\n",
       "      <th>content</th>\n",
       "      <th>name</th>\n",
       "      <th>gender_fact</th>\n",
       "    </tr>\n",
       "  </thead>\n",
       "  <tbody>\n",
       "    <tr>\n",
       "      <th>1795192</th>\n",
       "      <td>/doctors/Dr_Ramy_Doss</td>\n",
       "      <td>Love  Dr. Army  Doss.  He saved my life- a hea...</td>\n",
       "      <td>Ramy S Doss</td>\n",
       "      <td>M</td>\n",
       "    </tr>\n",
       "    <tr>\n",
       "      <th>1795193</th>\n",
       "      <td>/doctors/Dr_Ramy_Doss</td>\n",
       "      <td>I met Dr. Doss during a very stressful time an...</td>\n",
       "      <td>Ramy S Doss</td>\n",
       "      <td>M</td>\n",
       "    </tr>\n",
       "    <tr>\n",
       "      <th>1795194</th>\n",
       "      <td>/doctors/Dr_Ramy_Doss</td>\n",
       "      <td>IF IT WEREN'T FOR DR. DOSS' ACCURATE DIAGNOSIS...</td>\n",
       "      <td>Ramy S Doss</td>\n",
       "      <td>M</td>\n",
       "    </tr>\n",
       "    <tr>\n",
       "      <th>1795195</th>\n",
       "      <td>/doctors/Dr_Randall_Edson</td>\n",
       "      <td>dr. edson is as good as it gets for being pers...</td>\n",
       "      <td>Randall S Edson</td>\n",
       "      <td>NA</td>\n",
       "    </tr>\n",
       "    <tr>\n",
       "      <th>1795196</th>\n",
       "      <td>/doctors/Dr_Randall_Farrar</td>\n",
       "      <td>Great Doc! Really cares.</td>\n",
       "      <td>J Randall R Farrar</td>\n",
       "      <td>NA</td>\n",
       "    </tr>\n",
       "  </tbody>\n",
       "</table>\n",
       "</div>"
      ],
      "text/plain": [
       "                               href  \\\n",
       "1795192       /doctors/Dr_Ramy_Doss   \n",
       "1795193       /doctors/Dr_Ramy_Doss   \n",
       "1795194       /doctors/Dr_Ramy_Doss   \n",
       "1795195   /doctors/Dr_Randall_Edson   \n",
       "1795196  /doctors/Dr_Randall_Farrar   \n",
       "\n",
       "                                                   content  \\\n",
       "1795192  Love  Dr. Army  Doss.  He saved my life- a hea...   \n",
       "1795193  I met Dr. Doss during a very stressful time an...   \n",
       "1795194  IF IT WEREN'T FOR DR. DOSS' ACCURATE DIAGNOSIS...   \n",
       "1795195  dr. edson is as good as it gets for being pers...   \n",
       "1795196                           Great Doc! Really cares.   \n",
       "\n",
       "                       name gender_fact  \n",
       "1795192         Ramy S Doss           M  \n",
       "1795193         Ramy S Doss           M  \n",
       "1795194         Ramy S Doss           M  \n",
       "1795195     Randall S Edson          NA  \n",
       "1795196  J Randall R Farrar          NA  "
      ]
     },
     "execution_count": 25,
     "metadata": {},
     "output_type": "execute_result"
    }
   ],
   "source": [
    "df.tail()"
   ]
  },
  {
   "cell_type": "code",
   "execution_count": 26,
   "metadata": {
    "collapsed": true
   },
   "outputs": [],
   "source": [
    "df.to_csv(\"name_reviews_gender.csv\", index=False)"
   ]
  },
  {
   "cell_type": "code",
   "execution_count": null,
   "metadata": {
    "collapsed": true
   },
   "outputs": [],
   "source": []
  }
 ],
 "metadata": {
  "kernelspec": {
   "display_name": "Python 3",
   "language": "python",
   "name": "python3"
  },
  "language_info": {
   "codemirror_mode": {
    "name": "ipython",
    "version": 3
   },
   "file_extension": ".py",
   "mimetype": "text/x-python",
   "name": "python",
   "nbconvert_exporter": "python",
   "pygments_lexer": "ipython3",
   "version": "3.6.0"
  }
 },
 "nbformat": 4,
 "nbformat_minor": 2
}
