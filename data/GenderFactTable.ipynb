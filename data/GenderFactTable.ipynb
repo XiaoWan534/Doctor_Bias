{
 "cells": [
  {
   "cell_type": "code",
   "execution_count": 1,
   "metadata": {
    "collapsed": true
   },
   "outputs": [],
   "source": [
    "import pandas as pd"
   ]
  },
  {
   "cell_type": "code",
   "execution_count": 2,
   "metadata": {
    "collapsed": true
   },
   "outputs": [],
   "source": [
    "import numpy as np"
   ]
  },
  {
   "cell_type": "code",
   "execution_count": 3,
   "metadata": {
    "collapsed": false
   },
   "outputs": [
    {
     "name": "stderr",
     "output_type": "stream",
     "text": [
      "C:\\Users\\amyhu\\Anaconda3\\lib\\site-packages\\ipykernel\\__main__.py:1: DeprecationWarning: 'U' mode is deprecated\n",
      "  if __name__ == '__main__':\n"
     ]
    }
   ],
   "source": [
    "full_table = pd.read_csv(open('name_reviews_gender_fulltable.csv','rU'), encoding='utf-8', engine='c')"
   ]
  },
  {
   "cell_type": "code",
   "execution_count": 4,
   "metadata": {
    "collapsed": false
   },
   "outputs": [
    {
     "data": {
      "text/html": [
       "<div>\n",
       "<table border=\"1\" class=\"dataframe\">\n",
       "  <thead>\n",
       "    <tr style=\"text-align: right;\">\n",
       "      <th></th>\n",
       "      <th>href</th>\n",
       "      <th>content</th>\n",
       "      <th>name</th>\n",
       "      <th>gender_fact</th>\n",
       "    </tr>\n",
       "  </thead>\n",
       "  <tbody>\n",
       "    <tr>\n",
       "      <th>0</th>\n",
       "      <td>/dentists/Dr_Aarika_Anderson_Elter</td>\n",
       "      <td>Dr. Anderson explained in detail my options fo...</td>\n",
       "      <td>Aarika D Anderson Elter</td>\n",
       "      <td>NaN</td>\n",
       "    </tr>\n",
       "    <tr>\n",
       "      <th>1</th>\n",
       "      <td>/dentists/Dr_Aamir_Wahab</td>\n",
       "      <td>Had an implant done and it was painless. I cou...</td>\n",
       "      <td>Aamir Wahab</td>\n",
       "      <td>M</td>\n",
       "    </tr>\n",
       "    <tr>\n",
       "      <th>2</th>\n",
       "      <td>/dentists/Dr_Aanal_Parikh</td>\n",
       "      <td>Do not go to this dentist office they scam peo...</td>\n",
       "      <td>Aanal K Parikh</td>\n",
       "      <td>NaN</td>\n",
       "    </tr>\n",
       "    <tr>\n",
       "      <th>3</th>\n",
       "      <td>/dentists/Dr_Aaron_Aguilar</td>\n",
       "      <td>Very thoughtful Dr.  Communicates/bedside mann...</td>\n",
       "      <td>Aaron D Aguilar</td>\n",
       "      <td>NaN</td>\n",
       "    </tr>\n",
       "    <tr>\n",
       "      <th>4</th>\n",
       "      <td>/dentists/Dr_Aaron_D_Larsen</td>\n",
       "      <td>Would continue to see Dr.  Larsen however his ...</td>\n",
       "      <td>Aaron D Larsen</td>\n",
       "      <td>M</td>\n",
       "    </tr>\n",
       "  </tbody>\n",
       "</table>\n",
       "</div>"
      ],
      "text/plain": [
       "                                 href  \\\n",
       "0  /dentists/Dr_Aarika_Anderson_Elter   \n",
       "1            /dentists/Dr_Aamir_Wahab   \n",
       "2           /dentists/Dr_Aanal_Parikh   \n",
       "3          /dentists/Dr_Aaron_Aguilar   \n",
       "4         /dentists/Dr_Aaron_D_Larsen   \n",
       "\n",
       "                                             content                     name  \\\n",
       "0  Dr. Anderson explained in detail my options fo...  Aarika D Anderson Elter   \n",
       "1  Had an implant done and it was painless. I cou...              Aamir Wahab   \n",
       "2  Do not go to this dentist office they scam peo...           Aanal K Parikh   \n",
       "3  Very thoughtful Dr.  Communicates/bedside mann...          Aaron D Aguilar   \n",
       "4  Would continue to see Dr.  Larsen however his ...           Aaron D Larsen   \n",
       "\n",
       "  gender_fact  \n",
       "0         NaN  \n",
       "1           M  \n",
       "2         NaN  \n",
       "3         NaN  \n",
       "4           M  "
      ]
     },
     "execution_count": 4,
     "metadata": {},
     "output_type": "execute_result"
    }
   ],
   "source": [
    "full_table.head()"
   ]
  },
  {
   "cell_type": "code",
   "execution_count": 5,
   "metadata": {
    "collapsed": true
   },
   "outputs": [],
   "source": [
    "raw_name_gender = full_table.loc[:,['href','name','gender_fact']]"
   ]
  },
  {
   "cell_type": "code",
   "execution_count": 18,
   "metadata": {
    "collapsed": false
   },
   "outputs": [],
   "source": [
    "lower = lambda x: str(x).lower()\n",
    "raw_name_gender.name = raw_name_gender.name.apply(lower)"
   ]
  },
  {
   "cell_type": "code",
   "execution_count": 19,
   "metadata": {
    "collapsed": false
   },
   "outputs": [
    {
     "data": {
      "text/html": [
       "<div>\n",
       "<table border=\"1\" class=\"dataframe\">\n",
       "  <thead>\n",
       "    <tr style=\"text-align: right;\">\n",
       "      <th></th>\n",
       "      <th>href</th>\n",
       "      <th>name</th>\n",
       "      <th>gender_fact</th>\n",
       "    </tr>\n",
       "  </thead>\n",
       "  <tbody>\n",
       "    <tr>\n",
       "      <th>0</th>\n",
       "      <td>/dentists/Dr_Aarika_Anderson_Elter</td>\n",
       "      <td>aarika d anderson elter</td>\n",
       "      <td>NaN</td>\n",
       "    </tr>\n",
       "    <tr>\n",
       "      <th>1</th>\n",
       "      <td>/dentists/Dr_Aamir_Wahab</td>\n",
       "      <td>aamir wahab</td>\n",
       "      <td>M</td>\n",
       "    </tr>\n",
       "    <tr>\n",
       "      <th>2</th>\n",
       "      <td>/dentists/Dr_Aanal_Parikh</td>\n",
       "      <td>aanal k parikh</td>\n",
       "      <td>NaN</td>\n",
       "    </tr>\n",
       "    <tr>\n",
       "      <th>3</th>\n",
       "      <td>/dentists/Dr_Aaron_Aguilar</td>\n",
       "      <td>aaron d aguilar</td>\n",
       "      <td>NaN</td>\n",
       "    </tr>\n",
       "    <tr>\n",
       "      <th>4</th>\n",
       "      <td>/dentists/Dr_Aaron_D_Larsen</td>\n",
       "      <td>aaron d larsen</td>\n",
       "      <td>M</td>\n",
       "    </tr>\n",
       "  </tbody>\n",
       "</table>\n",
       "</div>"
      ],
      "text/plain": [
       "                                 href                     name gender_fact\n",
       "0  /dentists/Dr_Aarika_Anderson_Elter  aarika d anderson elter         NaN\n",
       "1            /dentists/Dr_Aamir_Wahab              aamir wahab           M\n",
       "2           /dentists/Dr_Aanal_Parikh           aanal k parikh         NaN\n",
       "3          /dentists/Dr_Aaron_Aguilar          aaron d aguilar         NaN\n",
       "4         /dentists/Dr_Aaron_D_Larsen           aaron d larsen           M"
      ]
     },
     "execution_count": 19,
     "metadata": {},
     "output_type": "execute_result"
    }
   ],
   "source": [
    "raw_name_gender.head()"
   ]
  },
  {
   "cell_type": "code",
   "execution_count": 21,
   "metadata": {
    "collapsed": true
   },
   "outputs": [],
   "source": [
    "def get_top(x):\n",
    "    a = x.value_counts()\n",
    "    if a.any():\n",
    "        return a.index[0]\n",
    "    else:\n",
    "        return 'NA'"
   ]
  },
  {
   "cell_type": "code",
   "execution_count": 23,
   "metadata": {
    "collapsed": false
   },
   "outputs": [],
   "source": [
    "\n",
    "GenderFactTable = raw_name_gender.groupby('name').agg({'gender_fact': get_top})"
   ]
  },
  {
   "cell_type": "code",
   "execution_count": 27,
   "metadata": {
    "collapsed": false
   },
   "outputs": [
    {
     "data": {
      "text/plain": [
       "gender_fact    0\n",
       "dtype: int64"
      ]
     },
     "execution_count": 27,
     "metadata": {},
     "output_type": "execute_result"
    }
   ],
   "source": [
    "GenderFactTable.isnull().sum()"
   ]
  },
  {
   "cell_type": "code",
   "execution_count": 28,
   "metadata": {
    "collapsed": true
   },
   "outputs": [],
   "source": [
    "GenderFactTable.to_csv(\"GenderFactTable.csv\", index=False)"
   ]
  },
  {
   "cell_type": "code",
   "execution_count": null,
   "metadata": {
    "collapsed": true
   },
   "outputs": [],
   "source": []
  }
 ],
 "metadata": {
  "kernelspec": {
   "display_name": "Python 3",
   "language": "python",
   "name": "python3"
  },
  "language_info": {
   "codemirror_mode": {
    "name": "ipython",
    "version": 3
   },
   "file_extension": ".py",
   "mimetype": "text/x-python",
   "name": "python",
   "nbconvert_exporter": "python",
   "pygments_lexer": "ipython3",
   "version": "3.6.0"
  }
 },
 "nbformat": 4,
 "nbformat_minor": 2
}
